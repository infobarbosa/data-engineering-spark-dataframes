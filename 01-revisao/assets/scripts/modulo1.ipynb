{
    "cells": [
        {
            "cell_type": "markdown",
            "id": "96dbff6c",
            "metadata": {},
            "source": [
                "# Importações"
            ]
        },
        {
            "cell_type": "code",
            "execution_count": null,
            "id": "6baa1254",
            "metadata": {},
            "outputs": [],
            "source": [
                "from pyspark.sql import SparkSession\n",
                "from pyspark.sql.types import StructType, StructField, StringType, IntegerType"
            ]
        },
        {
            "cell_type": "markdown",
            "id": "497c8d27",
            "metadata": {},
            "source": [
                "# Criação da sessão Spark"
            ]
        },
        {
            "cell_type": "code",
            "execution_count": null,
            "id": "70bf7f1b",
            "metadata": {},
            "outputs": [],
            "source": [
                "\n",
                "spark = SparkSession.builder \\\n",
                "    .appName(\"My Spark Application\") \\\n",
                "    .getOrCreate()"
            ]
        },
        {
            "cell_type": "markdown",
            "id": "5bc8b839",
            "metadata": {},
            "source": [
                "# Leitura do dataset"
            ]
        },
        {
            "cell_type": "code",
            "execution_count": null,
            "id": "edb08143",
            "metadata": {},
            "outputs": [],
            "source": [
                "df_json = spark.read.json(\"s3://bucket/data.json\")"
            ]
        },
        {
            "cell_type": "markdown",
            "id": "73b7ba0a",
            "metadata": {},
            "source": [
                "# Transformações e ações"
            ]
        },
        {
            "cell_type": "code",
            "execution_count": null,
            "id": "7d5f3398",
            "metadata": {},
            "outputs": [],
            "source": [
                "df_result = df_json.filter(df_json[\"idade\"] > 25).groupBy(\"cidade\").count()"
            ]
        },
        {
            "cell_type": "code",
            "execution_count": null,
            "id": "64a7125a",
            "metadata": {},
            "outputs": [],
            "source": [
                "# Mostrando o resultado\n",
                "df_result.show()"
            ]
        },
        {
            "cell_type": "code",
            "execution_count": null,
            "id": "98082c3f",
            "metadata": {},
            "outputs": [],
            "source": [
                "# Esquema personalizado\n",
                "schema_custom = StructType([\n",
                "    StructField(\"cidade\", StringType(), True),\n",
                "    StructField(\"total\", IntegerType(), True)\n",
                "])"
            ]
        },
        {
            "cell_type": "code",
            "execution_count": null,
            "id": "fe142858",
            "metadata": {},
            "outputs": [],
            "source": [
                "df_custom = spark.createDataFrame(df_result.rdd, schema=schema_custom)"
            ]
        },
        {
            "cell_type": "code",
            "execution_count": null,
            "id": "45d7e8e9",
            "metadata": {},
            "outputs": [],
            "source": [
                "df_custom.printSchema()"
            ]
        }
    ],
    "metadata": {
        "kernelspec": {
            "display_name": "Python 3",
            "language": "python",
            "name": "python3"
        },
        "language_info": {
            "codemirror_mode": {
                "name": "ipython",
                "version": 3
            },
            "file_extension": ".py",
            "mimetype": "text/x-python",
            "name": "python",
            "nbconvert_exporter": "python",
            "pygments_lexer": "ipython3",
            "version": "3.7.11"
        }
    },
    "nbformat": 4,
    "nbformat_minor": 5
}
