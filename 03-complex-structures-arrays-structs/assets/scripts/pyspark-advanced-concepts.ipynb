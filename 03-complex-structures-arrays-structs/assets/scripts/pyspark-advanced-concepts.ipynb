{
	"cells": [
		{
			"cell_type": "markdown",
			"metadata": {
				"editable": true,
				"trusted": true
			},
			"source": [
				"# AWS Glue Studio Notebook\n",
				"##### You are now running a AWS Glue Studio notebook; To start using your notebook you need to start an AWS Glue Interactive Session.\n"
			]
		},
		{
			"cell_type": "markdown",
			"metadata": {
				"editable": true,
				"trusted": true
			},
			"source": [
				"#### Optional: Run this cell to see available notebook commands (\"magics\").\n"
			]
		},
		{
			"cell_type": "code",
			"execution_count": null,
			"metadata": {
				"editable": true,
				"trusted": true,
				"vscode": {
					"languageId": "python_glue_session"
				}
			},
			"outputs": [],
			"source": [
				"%help"
			]
		},
		{
			"cell_type": "markdown",
			"metadata": {
				"editable": true,
				"trusted": true
			},
			"source": [
				"####  Run this cell to set up and start your interactive session.\n"
			]
		},
		{
			"cell_type": "code",
			"execution_count": null,
			"metadata": {
				"editable": true,
				"trusted": true,
				"vscode": {
					"languageId": "python_glue_session"
				}
			},
			"outputs": [],
			"source": [
				"%idle_timeout 2880\n",
				"%glue_version 4.0\n",
				"%worker_type G.1X\n",
				"%number_of_workers 5\n",
				"\n",
				"import sys\n",
				"from awsglue.transforms import *\n",
				"from awsglue.utils import getResolvedOptions\n",
				"from pyspark.context import SparkContext\n",
				"from awsglue.context import GlueContext\n",
				"from awsglue.job import Job\n",
				"  \n",
				"sc = SparkContext.getOrCreate()\n",
				"glueContext = GlueContext(sc)\n",
				"spark = glueContext.spark_session\n",
				"job = Job(glueContext)"
			]
		},
		{
			"cell_type": "code",
			"execution_count": null,
			"metadata": {
				"tags": [],
				"trusted": true,
				"vscode": {
					"languageId": "python_glue_session"
				}
			},
			"outputs": [],
			"source": [
				"from pyspark.sql import SparkSession\n",
				"from pyspark.sql.functions import udf, col, explode\n",
				"from pyspark.sql.types import IntegerType, StructType, StructField, StringType, ArrayType"
			]
		},
		{
			"cell_type": "code",
			"execution_count": null,
			"metadata": {
				"tags": [],
				"trusted": true,
				"vscode": {
					"languageId": "python_glue_session"
				}
			},
			"outputs": [],
			"source": [
				"spark = SparkSession.builder.appName(\"dataeng-modulo-2\").getOrCreate()"
			]
		},
		{
			"cell_type": "code",
			"execution_count": null,
			"metadata": {
				"tags": [],
				"trusted": true,
				"vscode": {
					"languageId": "python_glue_session"
				}
			},
			"outputs": [],
			"source": [
				"data = [\n",
				"    (\"João\", [{\"curso\": \"Matemática\", \"nota\": 85}, {\"curso\": \"História\", \"nota\": 90}]),\n",
				"    (\"Maria\", [{\"curso\": \"Matemática\", \"nota\": 95}, {\"curso\": \"História\", \"nota\": 80}])\n",
				"]"
			]
		},
		{
			"cell_type": "code",
			"execution_count": null,
			"metadata": {
				"tags": [],
				"trusted": true,
				"vscode": {
					"languageId": "python_glue_session"
				}
			},
			"outputs": [],
			"source": [
				"schema = StructType([\n",
				"    StructField(\"nome\", StringType(), True),\n",
				"    StructField(\"cursos\", ArrayType(StructType([\n",
				"        StructField(\"curso\", StringType(), True),\n",
				"        StructField(\"nota\", IntegerType(), True)\n",
				"    ])), True)\n",
				"])"
			]
		},
		{
			"cell_type": "code",
			"execution_count": null,
			"metadata": {
				"tags": [],
				"trusted": true,
				"vscode": {
					"languageId": "python_glue_session"
				}
			},
			"outputs": [],
			"source": [
				"df = spark.createDataFrame(data, schema)\n"
			]
		},
		{
			"cell_type": "code",
			"execution_count": null,
			"metadata": {
				"tags": [],
				"trusted": true,
				"vscode": {
					"languageId": "python_glue_session"
				}
			},
			"outputs": [],
			"source": [
				"df.show(truncate=False)"
			]
		},
		{
			"cell_type": "markdown",
			"metadata": {},
			"source": [
				"# 2. Explodindo o Array para Linhas Individuais"
			]
		},
		{
			"cell_type": "code",
			"execution_count": null,
			"metadata": {
				"tags": [],
				"trusted": true,
				"vscode": {
					"languageId": "python_glue_session"
				}
			},
			"outputs": [],
			"source": [
				"df_exploded = df.withColumn(\"curso\", explode(df[\"cursos\"]))\n",
				"df_exploded = df_exploded.select(\"nome\", col(\"curso.curso\"), col(\"curso.nota\"))\n",
				"df_exploded.show()"
			]
		},
		{
			"cell_type": "markdown",
			"metadata": {},
			"source": [
				"# 3. Definindo uma UDF para Calcular um Bônus na Nota\n"
			]
		},
		{
			"cell_type": "code",
			"execution_count": null,
			"metadata": {
				"tags": [],
				"trusted": true,
				"vscode": {
					"languageId": "python_glue_session"
				}
			},
			"outputs": [],
			"source": [
				"@udf(IntegerType())\n",
				"def calcular_bonus(nota):\n",
				"    return nota + 5"
			]
		},
		{
			"cell_type": "code",
			"execution_count": null,
			"metadata": {
				"tags": [],
				"trusted": true,
				"vscode": {
					"languageId": "python_glue_session"
				}
			},
			"outputs": [],
			"source": [
				"df_bonus = df_exploded.withColumn(\"nota_bonus\", calcular_bonus(df_exploded[\"nota\"]))\n",
				"df_bonus.show()\n"
			]
		},
		{
			"cell_type": "markdown",
			"metadata": {},
			"source": [
				"# 4. Aplicação de Pivot"
			]
		},
		{
			"cell_type": "code",
			"execution_count": null,
			"metadata": {
				"tags": [],
				"trusted": true,
				"vscode": {
					"languageId": "python_glue_session"
				}
			},
			"outputs": [],
			"source": [
				"df_pivot_bonus = df_bonus.groupBy(\"nome\").pivot(\"curso\").agg({\"nota_bonus\": \"max\"})\n",
				"df_pivot_bonus.show()"
			]
		},
		{
			"cell_type": "markdown",
			"metadata": {},
			"source": [
				"# 5. Rollup para Agregações Hierárquicas\n"
			]
		},
		{
			"cell_type": "code",
			"execution_count": null,
			"metadata": {
				"tags": [],
				"trusted": true,
				"vscode": {
					"languageId": "python_glue_session"
				}
			},
			"outputs": [],
			"source": [
				"df_rollup = df_exploded.rollup(\"nome\", \"curso\").agg({\"nota\": \"avg\"}).orderBy(\"nome\", \"curso\")\n",
				"df_rollup.show()"
			]
		},
		{
			"cell_type": "markdown",
			"metadata": {},
			"source": [
				"# 6. Cube para Agregações Multidimensionais\n"
			]
		},
		{
			"cell_type": "code",
			"execution_count": null,
			"metadata": {
				"tags": [],
				"trusted": true,
				"vscode": {
					"languageId": "python_glue_session"
				}
			},
			"outputs": [],
			"source": [
				"df_cube = df_exploded.cube(\"nome\", \"curso\").agg({\"nota\": \"avg\"}).orderBy(\"nome\", \"curso\")\n",
				"df_cube.show()"
			]
		},
		{
			"cell_type": "markdown",
			"metadata": {},
			"source": [
				"# Encerrando a SparkSession\n"
			]
		},
		{
			"cell_type": "code",
			"execution_count": null,
			"metadata": {
				"vscode": {
					"languageId": "python_glue_session"
				}
			},
			"outputs": [],
			"source": [
				"spark.stop()"
			]
		}
	],
	"metadata": {
		"kernelspec": {
			"display_name": "Glue PySpark",
			"language": "python",
			"name": "glue_pyspark"
		},
		"language_info": {
			"codemirror_mode": {
				"name": "python",
				"version": 3
			},
			"file_extension": ".py",
			"mimetype": "text/x-python",
			"name": "Python_Glue_Session",
			"pygments_lexer": "python3"
		}
	},
	"nbformat": 4,
	"nbformat_minor": 4
}
